{
 "cells": [
  {
   "cell_type": "markdown",
   "metadata": {},
   "source": [
    "# Основы Python для аналитиков\n",
    "## Семинар 1"
   ]
  },
  {
   "cell_type": "markdown",
   "metadata": {},
   "source": [
    "## Задача 1. \n",
    "#### На складе лежат разные фрукты в разном количестве. Нужно написать функцию, которая на вход принимает любое количество названий фруктов и их количество, а возвращает общее количество фруктов на складе "
   ]
  },
  {
   "cell_type": "code",
   "execution_count": 2,
   "metadata": {},
   "outputs": [
    {
     "data": {
      "text/plain": [
       "'Число фруктов = 47'"
      ]
     },
     "execution_count": 2,
     "metadata": {},
     "output_type": "execute_result"
    }
   ],
   "source": [
    "def fruits(**kwargs):\n",
    "    return f'Число фруктов = {sum(kwargs.values())}'\n",
    "\n",
    "fruits(banana= 15, apple= 20, orange= 12)"
   ]
  },
  {
   "cell_type": "markdown",
   "metadata": {},
   "source": [
    "## Задача 2. \n",
    "#### Дан список с затратами на рекламу. Но в данных есть ошибки, некоторые затраты имеют отрицательную величину. Удалите такие значения из списка и посчитайте суммарные затраты. <br> \n",
    "`[100, 125, -90, 345, 655, -1, 0, 200]`<br>\n",
    "#### Используйте list comprehensions"
   ]
  },
  {
   "cell_type": "code",
   "execution_count": 3,
   "metadata": {},
   "outputs": [
    {
     "name": "stdout",
     "output_type": "stream",
     "text": [
      "Исправленные затраты = [100, 125, 345, 655, 0, 200] \n",
      "Сумма затрат = 1425\n"
     ]
    }
   ],
   "source": [
    "def delete_errors (data: list):\n",
    "    new = [i for i in data if i >= 0]\n",
    "    print (f'Исправленные затраты = {new}',f'\\nСумма затрат = {sum(new)}')\n",
    "\n",
    "ads = [100, 125, -90, 345, 655, -1, 0, 200]\n",
    "delete_errors(ads)"
   ]
  },
  {
   "cell_type": "markdown",
   "metadata": {},
   "source": [
    "## Задача 4. \n",
    "#### Даны два списка. Дата покупки<br> \n",
    "`['2021-09-14', '2021-12-15', '2021-09-08', '2021-12-05', '2021-10-09', '2021-09-30', '2021-12-22', '2021-11-29', '2021-12-24', '2021-11-26', '2021-10-27', '2021-12-18', '2021-11-09', '2021-11-23', '2021-09-27', '2021-10-02', '2021-12-27', '2021-09-20', '2021-12-13', '2021-11-01', '2021-11-09', '2021-12-06', '2021-12-08', '2021-10-09', '2021-10-31', '2021-09-30', '2021-11-09', '2021-12-13', '2021-10-26', '2021-12-09']`<br>\n",
    "#### Суммы покупок по датам<br> \n",
    "`[1270, 8413, 9028, 3703, 5739, 4095, 295, 4944, 5723, 3701, 4471, 651, 7037, 4274, 6275, 4988, 6930, 2971, 6592, 2004, 2822, 519, 3406, 2732, 5015, 2008, 316, 6333, 5700, 2887]`<br>"
   ]
  },
  {
   "cell_type": "markdown",
   "metadata": {},
   "source": [
    "### Задача 4.1. \n",
    "#### Найдите, какая выручка у компании в ноябре. Используйте list comprehensions\n"
   ]
  },
  {
   "cell_type": "code",
   "execution_count": 21,
   "metadata": {},
   "outputs": [
    {
     "name": "stdout",
     "output_type": "stream",
     "text": [
      "Выручка компании за период 2021-10 = 22906\n"
     ]
    }
   ],
   "source": [
    "def revenue (data: list, sum: list, string: str)-> int:\n",
    "    rev = dict()\n",
    "    rev = {data[i]: sum[i] for i in range(len(data))}\n",
    "    res = [rev[i] for i in rev.keys() if string in i]\n",
    "    return(res)\n",
    "\n",
    "data = ['2021-09-14', '2021-12-15', '2021-09-08', '2021-12-05', '2021-10-09', '2021-09-30', '2021-12-22', '2021-11-29', '2021-12-24', '2021-11-26', '2021-10-27', '2021-12-18', '2021-11-09', '2021-11-23', '2021-09-27', '2021-10-02', '2021-12-27', '2021-09-20', '2021-12-13', '2021-11-01', '2021-11-09', '2021-12-06', '2021-12-08', '2021-10-09', '2021-10-31', '2021-09-30', '2021-11-09', '2021-12-13', '2021-10-26', '2021-12-09']\n",
    "sum = [1270, 8413, 9028, 3703, 5739, 4095, 295, 4944, 5723, 3701, 4471, 651, 7037, 4274, 6275, 4988, 6930, 2971, 6592, 2004, 2822, 519, 3406, 2732, 5015, 2008, 316, 6333, 5700, 2887]\n",
    "search = '2021-10'\n",
    "res = revenue(data, sum, search)\n",
    "summa = 0\n",
    "for i in res:\n",
    "    summa += i\n",
    "print(f'Выручка компании за период {search} = {summa}')"
   ]
  },
  {
   "cell_type": "markdown",
   "metadata": {},
   "source": [
    "### Задача 4.2. \n",
    "#### Найдите выручку компании в зависимости от месяца. Для этого напишите функцию, которая на вход принимает список с датами и список с выручкой, а на выходе словарь, где ключи - это месяцы, а значения - это выручка. Используйте аннотирование типов."
   ]
  },
  {
   "cell_type": "code",
   "execution_count": 70,
   "metadata": {},
   "outputs": [
    {
     "name": "stdout",
     "output_type": "stream",
     "text": [
      "Выручка по месяцам: {'09': 21552, '10': 22906, '11': 15239, '12': 38860}\n"
     ]
    }
   ],
   "source": [
    "def revenue (data: list, sum: list)-> dict:\n",
    "    rev = dict()\n",
    "    rev = {data[i]: sum[i] for i in range(len(data))}\n",
    "    return(rev)\n",
    "\n",
    "res = revenue(data,sum)\n",
    "sortedres = dict(sorted(res.items()))\n",
    "# for key,value in sortedres.items(): \n",
    "#     print(key, value)\n",
    "\n",
    "s = 0\n",
    "month = '01'\n",
    "profit = dict()\n",
    "for i in sortedres.keys():\n",
    "    if i.split('-')[1] == month:\n",
    "        s += sortedres[i]\n",
    "        profit[i.split('-')[1]] = s\n",
    "    else:\n",
    "        month = i.split('-')[1]\n",
    "        s = sortedres[i]\n",
    "print(f'Выручка по месяцам: {profit}')\n",
    "        "
   ]
  },
  {
   "cell_type": "code",
   "execution_count": null,
   "metadata": {},
   "outputs": [],
   "source": []
  }
 ],
 "metadata": {
  "kernelspec": {
   "display_name": "Python 3 (ipykernel)",
   "language": "python",
   "name": "python3"
  },
  "language_info": {
   "codemirror_mode": {
    "name": "ipython",
    "version": 3
   },
   "file_extension": ".py",
   "mimetype": "text/x-python",
   "name": "python",
   "nbconvert_exporter": "python",
   "pygments_lexer": "ipython3",
   "version": "3.9.13"
  },
  "vscode": {
   "interpreter": {
    "hash": "aee8b7b246df8f9039afb4144a1f6fd8d2ca17a180786b69acc140d282b71a49"
   }
  }
 },
 "nbformat": 4,
 "nbformat_minor": 2
}
